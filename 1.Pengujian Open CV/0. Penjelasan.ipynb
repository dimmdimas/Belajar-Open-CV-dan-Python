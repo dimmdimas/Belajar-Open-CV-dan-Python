{
  "nbformat": 4,
  "nbformat_minor": 2,
  "metadata": {
    "colab": {
      "name": "Latihan_2_Orbit_Gen_Y.ipynb",
      "provenance": [],
      "authorship_tag": "ABX9TyMieXjMIGWzrM/zzvEpmEU5",
      "include_colab_link": true
    },
    "kernelspec": {
      "name": "python3",
      "display_name": "Python 3.9.6 64-bit"
    },
    "language_info": {
      "name": "python",
      "version": "3.9.6",
      "mimetype": "text/x-python",
      "codemirror_mode": {
        "name": "ipython",
        "version": 3
      },
      "pygments_lexer": "ipython3",
      "nbconvert_exporter": "python",
      "file_extension": ".py"
    },
    "interpreter": {
      "hash": "aee8b7b246df8f9039afb4144a1f6fd8d2ca17a180786b69acc140d282b71a49"
    }
  },
  "cells": [
    {
      "cell_type": "markdown",
      "source": [
        "<a href=\"https://colab.research.google.com/github/dimmdimas/Orbit-AI-Gen-Y/blob/main/Latihan_2_Orbit_Gen_Y.ipynb\" target=\"_parent\"><img src=\"https://colab.research.google.com/assets/colab-badge.svg\" alt=\"Open In Colab\"/></a>"
      ],
      "metadata": {
        "id": "view-in-github",
        "colab_type": "text"
      }
    },
    {
      "cell_type": "markdown",
      "source": [
        "**Pengantar Open CV, Computer Vision, Python**\n",
        "--"
      ],
      "metadata": {}
    },
    {
      "cell_type": "markdown",
      "source": [
        "`cv2.imread`                = digunakan untuk membaca suatu file gambar \n",
        "\n",
        "`cv2.imshow`                = digunakan untuk menampilkan gambar \n",
        "\n",
        "`cv2.waitKey`               = sistem akan menunggu sampai kita menekan tombol yang kita tentukan maka akan menjalankan perintah dibawahnya\n",
        "\n",
        "`cv2.destroyAllWindows()`   = destroy merupakan menutup jendela"
      ],
      "metadata": {}
    },
    {
      "cell_type": "code",
      "execution_count": 2,
      "source": [
        "import cv2\n",
        "\n",
        "citraRGB = cv2.imread('./foto/individu.jpg')\n",
        "citraAbu2 = cv2.cvtColor(citraRGB, cv2.COLOR_RGB2GRAY)\n",
        "\n",
        "cv2.imshow('Gambar berwarna', citraRGB)\n",
        "cv2.imshow('Gambar berskala keabu-abuan', citraAbu2)\n",
        "\n",
        "cv2.waitKey(0)\n",
        "cv2.destroyAllWindows()"
      ],
      "outputs": [],
      "metadata": {}
    },
    {
      "cell_type": "markdown",
      "source": [
        "`cvtColor`  = digunakan untuk merubah warna pada gambar kita\n",
        "\n",
        "format      = `cv2.cvtColor('foto kita', 'diubah ke warna apa')`\n",
        "\n",
        "`COLOR_RGB2GRAY` berarti warna awal RGB diubah kedalam GRAY (Keabu-abuan)"
      ],
      "metadata": {}
    }
  ]
}