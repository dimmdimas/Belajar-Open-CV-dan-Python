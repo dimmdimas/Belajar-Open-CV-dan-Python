{
 "cells": [
  {
   "cell_type": "code",
   "execution_count": 2,
   "source": [
    "a = 1\n",
    "b = 2.5\n",
    "c = 'Hallo Semua'\n",
    "d = True\n",
    "\n",
    "print ('Varibel a mempunyai nilai :', a , 'Dengan tipe data :', type(a))\n",
    "\n",
    "print ('Varibel b mempunyai nilai :', b , 'Dengan tipe data :', type(b))\n",
    "\n",
    "print ('Varibel c mempunyai nilai :', c , 'Dengan tipe data :', type(c))\n",
    "\n",
    "print ('Varibel d mempunyai nilai :', d , 'Dengan tipe data :', type(d))"
   ],
   "outputs": [
    {
     "output_type": "stream",
     "name": "stdout",
     "text": [
      "Varibel a mempunyai nilai : 1 Dengan tipe data : <class 'int'>\n",
      "Varibel b mempunyai nilai : 2.5 Dengan tipe data : <class 'float'>\n",
      "Varibel c mempunyai nilai : Hallo Semua Dengan tipe data : <class 'str'>\n",
      "Varibel d mempunyai nilai : True Dengan tipe data : <class 'bool'>\n"
     ]
    }
   ],
   "metadata": {}
  },
  {
   "cell_type": "markdown",
   "source": [
    "    int     = merupakan tipe data `bilangan bulat`\n",
    "    \n",
    "    float   = merupakan tipe data `bilangan real`\n",
    "\n",
    "    str     = merupakan tipe data `string' (Text)\n",
    "\n",
    "    bool    = merupakan tipe data `Boolean` (Nilai Boolean hanya ada 2, yaitu : 'True' dan 'False')\n",
    "    "
   ],
   "metadata": {}
  }
 ],
 "metadata": {
  "orig_nbformat": 4,
  "language_info": {
   "name": "python",
   "version": "3.9.6",
   "mimetype": "text/x-python",
   "codemirror_mode": {
    "name": "ipython",
    "version": 3
   },
   "pygments_lexer": "ipython3",
   "nbconvert_exporter": "python",
   "file_extension": ".py"
  },
  "kernelspec": {
   "name": "python3",
   "display_name": "Python 3.9.6 64-bit"
  },
  "interpreter": {
   "hash": "aee8b7b246df8f9039afb4144a1f6fd8d2ca17a180786b69acc140d282b71a49"
  }
 },
 "nbformat": 4,
 "nbformat_minor": 2
}