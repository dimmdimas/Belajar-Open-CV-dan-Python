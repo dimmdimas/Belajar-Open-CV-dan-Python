{
 "cells": [
  {
   "cell_type": "code",
   "execution_count": 2,
   "source": [
    "print('Hello World')\n",
    "\n",
    "x = 20\n",
    "c = 'Hai'\n",
    "\n",
    "x\n",
    "\n",
    "c"
   ],
   "outputs": [
    {
     "output_type": "stream",
     "name": "stdout",
     "text": [
      "Hello World\n"
     ]
    },
    {
     "output_type": "execute_result",
     "data": {
      "text/plain": [
       "'Hai'"
      ]
     },
     "metadata": {},
     "execution_count": 2
    }
   ],
   "metadata": {}
  },
  {
   "cell_type": "markdown",
   "source": [
    "fungsi `print` digunakan untuk menampilkan / mencetak .\n",
    "\n",
    "`x = 20`, Varibel `x` mempunyai nilai `20` berbentuk int\n",
    "`c = 'Hai'`, Variabel `c` mempunyai nilai `'Hai'` berbentuk String / Karakter.\n",
    "\n",
    "Perbedaan String dan Int adalah adanya simbol `' '` petik dua.\n",
    "\n",
    "kita bisa mencetak nilai pada `variabel` dengan dua metode yaitu `langsung menulis nama variabel nya` dan `menggunakan fungsi 'print'`."
   ],
   "metadata": {}
  }
 ],
 "metadata": {
  "orig_nbformat": 4,
  "language_info": {
   "name": "python",
   "version": "3.9.6",
   "mimetype": "text/x-python",
   "codemirror_mode": {
    "name": "ipython",
    "version": 3
   },
   "pygments_lexer": "ipython3",
   "nbconvert_exporter": "python",
   "file_extension": ".py"
  },
  "kernelspec": {
   "name": "python3",
   "display_name": "Python 3.9.6 64-bit"
  },
  "interpreter": {
   "hash": "aee8b7b246df8f9039afb4144a1f6fd8d2ca17a180786b69acc140d282b71a49"
  }
 },
 "nbformat": 4,
 "nbformat_minor": 2
}