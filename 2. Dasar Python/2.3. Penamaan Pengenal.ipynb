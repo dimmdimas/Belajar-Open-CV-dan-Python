{
 "cells": [
  {
   "cell_type": "code",
   "execution_count": 1,
   "source": [
    "print('print dengan p kecil')   #Contoh Benar\n",
    "Print('Print dengan P besar')   #Contoh Salah\n",
    "\n",
    "2mobil = 200    #Contoh Salah\n",
    "_2mobil = 200   #Contoh Salah\n",
    "mobil2 = 200    #Contoh Benar\n"
   ],
   "outputs": [
    {
     "output_type": "stream",
     "name": "stdout",
     "text": [
      "print dengan p kecil\n"
     ]
    },
    {
     "output_type": "error",
     "ename": "NameError",
     "evalue": "name 'Print' is not defined",
     "traceback": [
      "\u001b[0;31m---------------------------------------------------------------------------\u001b[0m",
      "\u001b[0;31mNameError\u001b[0m                                 Traceback (most recent call last)",
      "\u001b[0;32m/var/folders/lv/d6trh5kd6hs66zmby5_j3z0w0000gn/T/ipykernel_5108/2152570640.py\u001b[0m in \u001b[0;36m<module>\u001b[0;34m\u001b[0m\n\u001b[1;32m      1\u001b[0m \u001b[0mprint\u001b[0m\u001b[0;34m(\u001b[0m\u001b[0;34m'print dengan p kecil'\u001b[0m\u001b[0;34m)\u001b[0m\u001b[0;34m\u001b[0m\u001b[0;34m\u001b[0m\u001b[0m\n\u001b[0;32m----> 2\u001b[0;31m \u001b[0mPrint\u001b[0m\u001b[0;34m(\u001b[0m\u001b[0;34m'Print dengan P besar'\u001b[0m\u001b[0;34m)\u001b[0m\u001b[0;34m\u001b[0m\u001b[0;34m\u001b[0m\u001b[0m\n\u001b[0m",
      "\u001b[0;31mNameError\u001b[0m: name 'Print' is not defined"
     ]
    }
   ],
   "metadata": {}
  },
  {
   "cell_type": "markdown",
   "source": [
    "    1. besar kecil huruf pada code python itu berbeda!. \n",
    "    2. angka / simbol tidak boleh berada didepan. "
   ],
   "metadata": {}
  },
  {
   "cell_type": "markdown",
   "source": [
    "Cara mengecek eror pada codingan\n",
    "--\n",
    "\n",
    "    1. code yang dibawah nya terdapat tanda merah itu merupaka baris kode eror dimulai.\n",
    "    2. kita bisa liat pada output saat dijalankan, `NameError: name 'Print' is not defined. Artinya: `Print` tidak dikenal / diketahui,"
   ],
   "metadata": {}
  }
 ],
 "metadata": {
  "orig_nbformat": 4,
  "language_info": {
   "name": "python",
   "version": "3.9.6",
   "mimetype": "text/x-python",
   "codemirror_mode": {
    "name": "ipython",
    "version": 3
   },
   "pygments_lexer": "ipython3",
   "nbconvert_exporter": "python",
   "file_extension": ".py"
  },
  "kernelspec": {
   "name": "python3",
   "display_name": "Python 3.9.6 64-bit"
  },
  "interpreter": {
   "hash": "aee8b7b246df8f9039afb4144a1f6fd8d2ca17a180786b69acc140d282b71a49"
  }
 },
 "nbformat": 4,
 "nbformat_minor": 2
}