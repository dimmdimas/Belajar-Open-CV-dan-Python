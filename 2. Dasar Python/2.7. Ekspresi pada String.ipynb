{
 "cells": [
  {
   "cell_type": "code",
   "execution_count": 2,
   "source": [
    "buah = 'Mangga'\n",
    "\n",
    "print(buah)\n",
    "print(buah[1])\n",
    "print(buah[4])"
   ],
   "outputs": [
    {
     "output_type": "stream",
     "name": "stdout",
     "text": [
      "Mangga\n",
      "a\n",
      "g\n"
     ]
    }
   ],
   "metadata": {}
  },
  {
   "cell_type": "markdown",
   "source": [
    "simbol `[]` merupakan sebuah penda index ke-berapa.\n",
    "\n",
    "index merupakan nomor urut pada sebuah pemograman\n",
    "\n",
    "index dimulai dari 0,1,2,3,4,5 ...\n",
    "\n",
    "index 0 = M\n",
    "\n",
    "index 1 = a\n",
    "\n",
    "index 2 = n\n",
    "\n",
    "index 3 = g\n",
    "\n",
    "index 4 = g\n",
    "\n",
    "index 5 = a"
   ],
   "metadata": {}
  },
  {
   "cell_type": "code",
   "execution_count": 4,
   "source": [
    "print(buah[0:1])\n",
    "print(buah[3:5])"
   ],
   "outputs": [
    {
     "output_type": "stream",
     "name": "stdout",
     "text": [
      "M\n",
      "gg\n"
     ]
    }
   ],
   "metadata": {}
  },
  {
   "cell_type": "markdown",
   "source": [
    "arti dari `[0:1]` adalah dari index 0 hingga sebelum index 1\n",
    "\n",
    "arti dari `[3:5]` adalah dari index 3 hingga sebelum index 5"
   ],
   "metadata": {}
  },
  {
   "cell_type": "code",
   "execution_count": 7,
   "source": [
    "print(\"AB \" + \"CD\")\n",
    "print(\"AB \" * 2)"
   ],
   "outputs": [
    {
     "output_type": "stream",
     "name": "stdout",
     "text": [
      "AB CD\n",
      "AB AB \n"
     ]
    }
   ],
   "metadata": {}
  },
  {
   "cell_type": "markdown",
   "source": [
    "kita bisa menggunakan operasi matematika penjumlahan dan perkalian pada fungsi `print`"
   ],
   "metadata": {}
  },
  {
   "cell_type": "code",
   "execution_count": 11,
   "source": [
    "print('a' in buah)\n",
    "\n",
    "print('C' in 'Moci')\n",
    "\n",
    "print('c' in 'Moci')"
   ],
   "outputs": [
    {
     "output_type": "stream",
     "name": "stdout",
     "text": [
      "True\n",
      "False\n",
      "True\n"
     ]
    }
   ],
   "metadata": {}
  },
  {
   "cell_type": "markdown",
   "source": [
    "`print('C' in 'Moci')` artinya apakah `C` terdapat dalam `Moci`, jawabannya `False`. Karena hanya terdapat `c` bukan `C`. \n",
    "\n",
    "**ingat bahwa huruf besar kecil di python itu berbeda**\n",
    "\n",
    "`print('a' in buah)` artinya apakah `a` terdapat dalam nilai yang dimiliki variabel `buah`. variabel `buah` memiliki nilai `Mangga`"
   ],
   "metadata": {}
  }
 ],
 "metadata": {
  "orig_nbformat": 4,
  "language_info": {
   "name": "python",
   "version": "3.9.6",
   "mimetype": "text/x-python",
   "codemirror_mode": {
    "name": "ipython",
    "version": 3
   },
   "pygments_lexer": "ipython3",
   "nbconvert_exporter": "python",
   "file_extension": ".py"
  },
  "kernelspec": {
   "name": "python3",
   "display_name": "Python 3.9.6 64-bit"
  },
  "interpreter": {
   "hash": "aee8b7b246df8f9039afb4144a1f6fd8d2ca17a180786b69acc140d282b71a49"
  }
 },
 "nbformat": 4,
 "nbformat_minor": 2
}