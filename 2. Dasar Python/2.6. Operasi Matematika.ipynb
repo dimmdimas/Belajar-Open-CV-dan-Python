{
 "cells": [
  {
   "cell_type": "code",
   "execution_count": 3,
   "source": [
    "a = 10\n",
    "b = 5\n",
    "\n",
    "perkalian       = a * b\n",
    "pembagian       = a / b\n",
    "penjumlahan     = a + b\n",
    "pengurangan     = a - b\n",
    "sisa_pembagian  = a % b\n",
    "perpangkatan    = a ** b\n",
    "pembagian_bulat = a // b\n",
    "\n",
    "print('Perkalian        :', perkalian)\n",
    "print('Pembagian        :', pembagian)\n",
    "print('Penjumlahan      :', penjumlahan)\n",
    "print('Pengurangan      :', pengurangan)\n",
    "print('sisa_pembagian   :', sisa_pembagian)\n",
    "print('Perpangkatan     :', perpangkatan)\n",
    "print('Pembagian_bulat  :', pembagian_bulat)"
   ],
   "outputs": [
    {
     "output_type": "stream",
     "name": "stdout",
     "text": [
      "Perkalian        : 50\n",
      "Pembagian        : 2.0\n",
      "Penjumlahan      : 15\n",
      "Pengurangan      : 5\n",
      "sisa_pembagian   : 0\n",
      "Perpangkatan     : 100000\n",
      "Pembagian_bulat  : 2\n"
     ]
    }
   ],
   "metadata": {}
  },
  {
   "cell_type": "markdown",
   "source": [
    "    1. Perkalian        = `*`\n",
    "    2. Pembagian        = `/`\n",
    "    3. Penjumlahan      = `+`\n",
    "    4. Pengurangan      = `-`\n",
    "    5. Sisa Pembagian   = `%`\n",
    "    6. Perpangkatan     = `**`\n",
    "    7. Pembagian Bulat  = `//`"
   ],
   "metadata": {}
  },
  {
   "cell_type": "code",
   "execution_count": 4,
   "source": [
    "a += b\n",
    "\n",
    "print(a)"
   ],
   "outputs": [
    {
     "output_type": "stream",
     "name": "stdout",
     "text": [
      "15\n"
     ]
    }
   ],
   "metadata": {}
  },
  {
   "cell_type": "markdown",
   "source": [
    "`a += b` merupakan singkatan code dari `a = a + b`"
   ],
   "metadata": {}
  }
 ],
 "metadata": {
  "orig_nbformat": 4,
  "language_info": {
   "name": "python",
   "version": "3.9.6",
   "mimetype": "text/x-python",
   "codemirror_mode": {
    "name": "ipython",
    "version": 3
   },
   "pygments_lexer": "ipython3",
   "nbconvert_exporter": "python",
   "file_extension": ".py"
  },
  "kernelspec": {
   "name": "python3",
   "display_name": "Python 3.9.6 64-bit"
  },
  "interpreter": {
   "hash": "aee8b7b246df8f9039afb4144a1f6fd8d2ca17a180786b69acc140d282b71a49"
  }
 },
 "nbformat": 4,
 "nbformat_minor": 2
}