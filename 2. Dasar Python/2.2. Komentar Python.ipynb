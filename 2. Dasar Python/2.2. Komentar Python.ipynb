{
 "cells": [
  {
   "cell_type": "code",
   "execution_count": 1,
   "source": [
    "#Memanggil fungsi print untuk mencetak kata 'Hai, ini bukan komentar'\n",
    "#Ini sebuah komentar\n",
    "\n",
    "print('Hai, ini bukan komentar')"
   ],
   "outputs": [
    {
     "output_type": "stream",
     "name": "stdout",
     "text": [
      "Hai, ini bukan komentar\n"
     ]
    }
   ],
   "metadata": {}
  },
  {
   "cell_type": "markdown",
   "source": [
    "Kita bisa menambahkan komentar pada codingan kita menggunakan simbol `#`.\n",
    "\n",
    "komentar digunakan untuk menambah suatu catatan pada codingan kita. Contoh kasus pegunaannya adalah saat kita akan mengecek ulang codingan kita yang sudah banyak, dan kita lupa fungsi yang mana akan akan direvisi. fungsi komentar ini dapat membantu kita sebagai catatan dalam codingan kita."
   ],
   "metadata": {}
  }
 ],
 "metadata": {
  "orig_nbformat": 4,
  "language_info": {
   "name": "python",
   "version": "3.9.6",
   "mimetype": "text/x-python",
   "codemirror_mode": {
    "name": "ipython",
    "version": 3
   },
   "pygments_lexer": "ipython3",
   "nbconvert_exporter": "python",
   "file_extension": ".py"
  },
  "kernelspec": {
   "name": "python3",
   "display_name": "Python 3.9.6 64-bit"
  },
  "interpreter": {
   "hash": "aee8b7b246df8f9039afb4144a1f6fd8d2ca17a180786b69acc140d282b71a49"
  }
 },
 "nbformat": 4,
 "nbformat_minor": 2
}