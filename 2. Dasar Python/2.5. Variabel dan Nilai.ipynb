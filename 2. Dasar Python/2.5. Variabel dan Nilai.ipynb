{
 "cells": [
  {
   "cell_type": "code",
   "execution_count": 6,
   "source": [
    "umur = 21\n",
    "print('umur :',umur) #Menampilkan nilai umur\n",
    "\n",
    "umur = 30   #Merupabah nilai umur\n",
    "print('umur :',umur) #Menampilkan nilai umur yang baru\n"
   ],
   "outputs": [
    {
     "output_type": "stream",
     "name": "stdout",
     "text": [
      "umur : 21\n",
      "umur : 30\n"
     ]
    }
   ],
   "metadata": {}
  },
  {
   "cell_type": "markdown",
   "source": [
    "Kita bisa liat bahwa kita mempunyai 1 variabel yaitu, `umur`. Saat kita tampilan nilainya terdapat perbedaan hasil, itu dikarenakan kita merubah nilai yang dimiliki oleh variebel `umur` yang semua `21` menjadi `30`.\n",
    "\n",
    "Didalam pemograman itu saat kita menjalankan coding, komputer akan membaca secara urut dari atas hingga paling bawah. \n",
    "\n",
    "Bisa dilihat, kita melakukan perubahan nilai `umur` pada `baris ke-4`. Maka fungsi `print` pada `baris ke-2` masih menggunakan nilai `umur` yang sebenarnya (belum mengalami perubahan), fungsi `print` pada `baris ke-5` baru menampilkan nilai baru karena sudah dirubah nilai pada variabel `umur`\n",
    "\n",
    "**Perlu diingat bahwa komputer akan membaca codingan kita itu secara urut !.**\n"
   ],
   "metadata": {}
  },
  {
   "cell_type": "code",
   "execution_count": 8,
   "source": [
    "nama, umur, kota = 'Dimas', 21, 'Solo'\n",
    "\n",
    "print('Nama', nama)\n",
    "\n",
    "print('Umur :', umur, '& Asal, ', kota)"
   ],
   "outputs": [
    {
     "output_type": "stream",
     "name": "stdout",
     "text": [
      "Nama Dimas\n",
      "Umur : 21 & Asal,  Solo\n"
     ]
    }
   ],
   "metadata": {}
  },
  {
   "cell_type": "markdown",
   "source": [
    "Kita saat membuat suatu variabel dan nilai nya, bisa disingkat seperti `baris ke-1`. \n",
    "\n",
    "Dengan seperti ini kita dapat memperpendek baris code kita. :D"
   ],
   "metadata": {}
  }
 ],
 "metadata": {
  "orig_nbformat": 4,
  "language_info": {
   "name": "python",
   "version": "3.9.6",
   "mimetype": "text/x-python",
   "codemirror_mode": {
    "name": "ipython",
    "version": 3
   },
   "pygments_lexer": "ipython3",
   "nbconvert_exporter": "python",
   "file_extension": ".py"
  },
  "kernelspec": {
   "name": "python3",
   "display_name": "Python 3.9.6 64-bit"
  },
  "interpreter": {
   "hash": "aee8b7b246df8f9039afb4144a1f6fd8d2ca17a180786b69acc140d282b71a49"
  }
 },
 "nbformat": 4,
 "nbformat_minor": 2
}